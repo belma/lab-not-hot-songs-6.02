{
 "cells": [
  {
   "cell_type": "markdown",
   "id": "ebc2b7b3",
   "metadata": {},
   "source": [
    "### Lab | Creating a database of not_hot_songs"
   ]
  },
  {
   "cell_type": "code",
   "execution_count": 1,
   "id": "60c9eb10",
   "metadata": {},
   "outputs": [],
   "source": [
    "import pandas as pd"
   ]
  },
  {
   "cell_type": "code",
   "execution_count": 2,
   "id": "3afd3519",
   "metadata": {},
   "outputs": [],
   "source": [
    "#!dir"
   ]
  },
  {
   "cell_type": "code",
   "execution_count": 4,
   "id": "650d95ce",
   "metadata": {},
   "outputs": [],
   "source": [
    "df1 = pd.read_csv(\"top_100.csv\")\n",
    "df2 = pd.read_csv(\"not_hot_extracted.csv\")"
   ]
  },
  {
   "cell_type": "code",
   "execution_count": 5,
   "id": "0d123a78",
   "metadata": {},
   "outputs": [
    {
     "data": {
      "text/html": [
       "<div>\n",
       "<style scoped>\n",
       "    .dataframe tbody tr th:only-of-type {\n",
       "        vertical-align: middle;\n",
       "    }\n",
       "\n",
       "    .dataframe tbody tr th {\n",
       "        vertical-align: top;\n",
       "    }\n",
       "\n",
       "    .dataframe thead th {\n",
       "        text-align: right;\n",
       "    }\n",
       "</style>\n",
       "<table border=\"1\" class=\"dataframe\">\n",
       "  <thead>\n",
       "    <tr style=\"text-align: right;\">\n",
       "      <th></th>\n",
       "      <th>Unnamed: 0</th>\n",
       "      <th>title</th>\n",
       "      <th>artists</th>\n",
       "    </tr>\n",
       "  </thead>\n",
       "  <tbody>\n",
       "    <tr>\n",
       "      <th>0</th>\n",
       "      <td>0</td>\n",
       "      <td>Last Night</td>\n",
       "      <td>Morgan Wallen</td>\n",
       "    </tr>\n",
       "    <tr>\n",
       "      <th>1</th>\n",
       "      <td>1</td>\n",
       "      <td>Kill Bill</td>\n",
       "      <td>SZA</td>\n",
       "    </tr>\n",
       "    <tr>\n",
       "      <th>2</th>\n",
       "      <td>2</td>\n",
       "      <td>Flowers</td>\n",
       "      <td>Miley Cyrus</td>\n",
       "    </tr>\n",
       "    <tr>\n",
       "      <th>3</th>\n",
       "      <td>3</td>\n",
       "      <td>Ella Baila Sola</td>\n",
       "      <td>Eslabon Armado X Peso Pluma</td>\n",
       "    </tr>\n",
       "    <tr>\n",
       "      <th>4</th>\n",
       "      <td>4</td>\n",
       "      <td>Un x100to</td>\n",
       "      <td>Grupo Frontera X Bad Bunny</td>\n",
       "    </tr>\n",
       "    <tr>\n",
       "      <th>...</th>\n",
       "      <td>...</td>\n",
       "      <td>...</td>\n",
       "      <td>...</td>\n",
       "    </tr>\n",
       "    <tr>\n",
       "      <th>95</th>\n",
       "      <td>95</td>\n",
       "      <td>It Matters To Her</td>\n",
       "      <td>Scotty McCreery</td>\n",
       "    </tr>\n",
       "    <tr>\n",
       "      <th>96</th>\n",
       "      <td>96</td>\n",
       "      <td>Like Crazy</td>\n",
       "      <td>Jimin</td>\n",
       "    </tr>\n",
       "    <tr>\n",
       "      <th>97</th>\n",
       "      <td>97</td>\n",
       "      <td>All Of The Girls You Loved Before</td>\n",
       "      <td>Taylor Swift</td>\n",
       "    </tr>\n",
       "    <tr>\n",
       "      <th>98</th>\n",
       "      <td>98</td>\n",
       "      <td>5 Leaf Clover</td>\n",
       "      <td>Luke Combs</td>\n",
       "    </tr>\n",
       "    <tr>\n",
       "      <th>99</th>\n",
       "      <td>99</td>\n",
       "      <td>Big Truck</td>\n",
       "      <td>YoungBoy Never Broke Again</td>\n",
       "    </tr>\n",
       "  </tbody>\n",
       "</table>\n",
       "<p>100 rows × 3 columns</p>\n",
       "</div>"
      ],
      "text/plain": [
       "    Unnamed: 0                              title                      artists\n",
       "0            0                         Last Night                Morgan Wallen\n",
       "1            1                          Kill Bill                          SZA\n",
       "2            2                            Flowers                  Miley Cyrus\n",
       "3            3                    Ella Baila Sola  Eslabon Armado X Peso Pluma\n",
       "4            4                          Un x100to   Grupo Frontera X Bad Bunny\n",
       "..         ...                                ...                          ...\n",
       "95          95                  It Matters To Her              Scotty McCreery\n",
       "96          96                         Like Crazy                        Jimin\n",
       "97          97  All Of The Girls You Loved Before                 Taylor Swift\n",
       "98          98                      5 Leaf Clover                   Luke Combs\n",
       "99          99                          Big Truck   YoungBoy Never Broke Again\n",
       "\n",
       "[100 rows x 3 columns]"
      ]
     },
     "execution_count": 5,
     "metadata": {},
     "output_type": "execute_result"
    }
   ],
   "source": [
    "df1"
   ]
  },
  {
   "cell_type": "code",
   "execution_count": 6,
   "id": "035d5f5d",
   "metadata": {},
   "outputs": [
    {
     "data": {
      "text/html": [
       "<div>\n",
       "<style scoped>\n",
       "    .dataframe tbody tr th:only-of-type {\n",
       "        vertical-align: middle;\n",
       "    }\n",
       "\n",
       "    .dataframe tbody tr th {\n",
       "        vertical-align: top;\n",
       "    }\n",
       "\n",
       "    .dataframe thead th {\n",
       "        text-align: right;\n",
       "    }\n",
       "</style>\n",
       "<table border=\"1\" class=\"dataframe\">\n",
       "  <thead>\n",
       "    <tr style=\"text-align: right;\">\n",
       "      <th></th>\n",
       "      <th>Unnamed: 0</th>\n",
       "      <th>song_id</th>\n",
       "      <th>artist_name</th>\n",
       "      <th>title</th>\n",
       "    </tr>\n",
       "  </thead>\n",
       "  <tbody>\n",
       "    <tr>\n",
       "      <th>0</th>\n",
       "      <td>0</td>\n",
       "      <td>SOGSMXL12A81C23D88</td>\n",
       "      <td>Rapha\\xc3\\xabl</td>\n",
       "      <td>Je Sais Que La Terre Est Plate</td>\n",
       "    </tr>\n",
       "    <tr>\n",
       "      <th>1</th>\n",
       "      <td>1</td>\n",
       "      <td>SOMBCOW12AAF3B229F</td>\n",
       "      <td>Julie Zenatti</td>\n",
       "      <td>On Efface</td>\n",
       "    </tr>\n",
       "    <tr>\n",
       "      <th>2</th>\n",
       "      <td>2</td>\n",
       "      <td>SOEYIHF12AB017B5F4</td>\n",
       "      <td>The Baltimore Consort</td>\n",
       "      <td>Howells Delight</td>\n",
       "    </tr>\n",
       "    <tr>\n",
       "      <th>3</th>\n",
       "      <td>3</td>\n",
       "      <td>SODJYEC12A8C13D757</td>\n",
       "      <td>I Hate Sally</td>\n",
       "      <td>Martha Served</td>\n",
       "    </tr>\n",
       "    <tr>\n",
       "      <th>4</th>\n",
       "      <td>4</td>\n",
       "      <td>SOGSOUE12A58A76443</td>\n",
       "      <td>Orlando Pops Orchestra</td>\n",
       "      <td>Zip-A-Dee-Doo-Dah (Song of the South)</td>\n",
       "    </tr>\n",
       "    <tr>\n",
       "      <th>...</th>\n",
       "      <td>...</td>\n",
       "      <td>...</td>\n",
       "      <td>...</td>\n",
       "      <td>...</td>\n",
       "    </tr>\n",
       "    <tr>\n",
       "      <th>9995</th>\n",
       "      <td>9995</td>\n",
       "      <td>SOWJQRH12AB0186761</td>\n",
       "      <td>Brent Lamb</td>\n",
       "      <td>One About Heaven</td>\n",
       "    </tr>\n",
       "    <tr>\n",
       "      <th>9996</th>\n",
       "      <td>9996</td>\n",
       "      <td>SOIFMVY12A8AE467B1</td>\n",
       "      <td>U2</td>\n",
       "      <td>October</td>\n",
       "    </tr>\n",
       "    <tr>\n",
       "      <th>9997</th>\n",
       "      <td>9997</td>\n",
       "      <td>SOGVDLQ12A58A7E3C5</td>\n",
       "      <td>ZO2</td>\n",
       "      <td>Comin' Home</td>\n",
       "    </tr>\n",
       "    <tr>\n",
       "      <th>9998</th>\n",
       "      <td>9998</td>\n",
       "      <td>SOVVGSH12A8C14085F</td>\n",
       "      <td>Eddie</td>\n",
       "      <td>Pode Me Chamar</td>\n",
       "    </tr>\n",
       "    <tr>\n",
       "      <th>9999</th>\n",
       "      <td>9999</td>\n",
       "      <td>SOPNUVB12A8C13627D</td>\n",
       "      <td>Vincent Bruley</td>\n",
       "      <td>Souffle 2</td>\n",
       "    </tr>\n",
       "  </tbody>\n",
       "</table>\n",
       "<p>10000 rows × 4 columns</p>\n",
       "</div>"
      ],
      "text/plain": [
       "      Unnamed: 0             song_id             artist_name  \\\n",
       "0              0  SOGSMXL12A81C23D88          Rapha\\xc3\\xabl   \n",
       "1              1  SOMBCOW12AAF3B229F           Julie Zenatti   \n",
       "2              2  SOEYIHF12AB017B5F4   The Baltimore Consort   \n",
       "3              3  SODJYEC12A8C13D757            I Hate Sally   \n",
       "4              4  SOGSOUE12A58A76443  Orlando Pops Orchestra   \n",
       "...          ...                 ...                     ...   \n",
       "9995        9995  SOWJQRH12AB0186761              Brent Lamb   \n",
       "9996        9996  SOIFMVY12A8AE467B1                      U2   \n",
       "9997        9997  SOGVDLQ12A58A7E3C5                     ZO2   \n",
       "9998        9998  SOVVGSH12A8C14085F                   Eddie   \n",
       "9999        9999  SOPNUVB12A8C13627D          Vincent Bruley   \n",
       "\n",
       "                                      title  \n",
       "0            Je Sais Que La Terre Est Plate  \n",
       "1                                 On Efface  \n",
       "2                           Howells Delight  \n",
       "3                             Martha Served  \n",
       "4     Zip-A-Dee-Doo-Dah (Song of the South)  \n",
       "...                                     ...  \n",
       "9995                       One About Heaven  \n",
       "9996                                October  \n",
       "9997                            Comin' Home  \n",
       "9998                         Pode Me Chamar  \n",
       "9999                              Souffle 2  \n",
       "\n",
       "[10000 rows x 4 columns]"
      ]
     },
     "execution_count": 6,
     "metadata": {},
     "output_type": "execute_result"
    }
   ],
   "source": [
    "df2"
   ]
  },
  {
   "cell_type": "code",
   "execution_count": 7,
   "id": "0f786f1c",
   "metadata": {},
   "outputs": [
    {
     "data": {
      "text/plain": [
       "(100, 3)"
      ]
     },
     "execution_count": 7,
     "metadata": {},
     "output_type": "execute_result"
    }
   ],
   "source": [
    "df1.shape"
   ]
  },
  {
   "cell_type": "code",
   "execution_count": 8,
   "id": "fab6653e",
   "metadata": {},
   "outputs": [
    {
     "data": {
      "text/plain": [
       "(10000, 4)"
      ]
     },
     "execution_count": 8,
     "metadata": {},
     "output_type": "execute_result"
    }
   ],
   "source": [
    "df2.shape"
   ]
  },
  {
   "cell_type": "code",
   "execution_count": 9,
   "id": "3d28c051",
   "metadata": {},
   "outputs": [
    {
     "data": {
      "text/plain": [
       "Index(['Unnamed: 0', 'title', 'artists'], dtype='object')"
      ]
     },
     "execution_count": 9,
     "metadata": {},
     "output_type": "execute_result"
    }
   ],
   "source": [
    "df1.columns"
   ]
  },
  {
   "cell_type": "code",
   "execution_count": 10,
   "id": "a6b5a08d",
   "metadata": {},
   "outputs": [
    {
     "data": {
      "text/plain": [
       "Index(['Unnamed: 0', 'song_id', 'artist_name', 'title'], dtype='object')"
      ]
     },
     "execution_count": 10,
     "metadata": {},
     "output_type": "execute_result"
    }
   ],
   "source": [
    "df2.columns"
   ]
  },
  {
   "cell_type": "code",
   "execution_count": 12,
   "id": "7847b218",
   "metadata": {},
   "outputs": [],
   "source": [
    "#df2.drop(['Unnamed: 0', 'song_id'], axis=1, inplace=True)"
   ]
  },
  {
   "cell_type": "code",
   "execution_count": 13,
   "id": "14cfe375",
   "metadata": {},
   "outputs": [
    {
     "data": {
      "text/html": [
       "<div>\n",
       "<style scoped>\n",
       "    .dataframe tbody tr th:only-of-type {\n",
       "        vertical-align: middle;\n",
       "    }\n",
       "\n",
       "    .dataframe tbody tr th {\n",
       "        vertical-align: top;\n",
       "    }\n",
       "\n",
       "    .dataframe thead th {\n",
       "        text-align: right;\n",
       "    }\n",
       "</style>\n",
       "<table border=\"1\" class=\"dataframe\">\n",
       "  <thead>\n",
       "    <tr style=\"text-align: right;\">\n",
       "      <th></th>\n",
       "      <th>Unnamed: 0</th>\n",
       "      <th>song_id</th>\n",
       "      <th>artist_name</th>\n",
       "      <th>title</th>\n",
       "    </tr>\n",
       "  </thead>\n",
       "  <tbody>\n",
       "    <tr>\n",
       "      <th>0</th>\n",
       "      <td>0</td>\n",
       "      <td>SOGSMXL12A81C23D88</td>\n",
       "      <td>Rapha\\xc3\\xabl</td>\n",
       "      <td>Je Sais Que La Terre Est Plate</td>\n",
       "    </tr>\n",
       "    <tr>\n",
       "      <th>1</th>\n",
       "      <td>1</td>\n",
       "      <td>SOMBCOW12AAF3B229F</td>\n",
       "      <td>Julie Zenatti</td>\n",
       "      <td>On Efface</td>\n",
       "    </tr>\n",
       "    <tr>\n",
       "      <th>2</th>\n",
       "      <td>2</td>\n",
       "      <td>SOEYIHF12AB017B5F4</td>\n",
       "      <td>The Baltimore Consort</td>\n",
       "      <td>Howells Delight</td>\n",
       "    </tr>\n",
       "    <tr>\n",
       "      <th>3</th>\n",
       "      <td>3</td>\n",
       "      <td>SODJYEC12A8C13D757</td>\n",
       "      <td>I Hate Sally</td>\n",
       "      <td>Martha Served</td>\n",
       "    </tr>\n",
       "    <tr>\n",
       "      <th>4</th>\n",
       "      <td>4</td>\n",
       "      <td>SOGSOUE12A58A76443</td>\n",
       "      <td>Orlando Pops Orchestra</td>\n",
       "      <td>Zip-A-Dee-Doo-Dah (Song of the South)</td>\n",
       "    </tr>\n",
       "    <tr>\n",
       "      <th>...</th>\n",
       "      <td>...</td>\n",
       "      <td>...</td>\n",
       "      <td>...</td>\n",
       "      <td>...</td>\n",
       "    </tr>\n",
       "    <tr>\n",
       "      <th>9995</th>\n",
       "      <td>9995</td>\n",
       "      <td>SOWJQRH12AB0186761</td>\n",
       "      <td>Brent Lamb</td>\n",
       "      <td>One About Heaven</td>\n",
       "    </tr>\n",
       "    <tr>\n",
       "      <th>9996</th>\n",
       "      <td>9996</td>\n",
       "      <td>SOIFMVY12A8AE467B1</td>\n",
       "      <td>U2</td>\n",
       "      <td>October</td>\n",
       "    </tr>\n",
       "    <tr>\n",
       "      <th>9997</th>\n",
       "      <td>9997</td>\n",
       "      <td>SOGVDLQ12A58A7E3C5</td>\n",
       "      <td>ZO2</td>\n",
       "      <td>Comin' Home</td>\n",
       "    </tr>\n",
       "    <tr>\n",
       "      <th>9998</th>\n",
       "      <td>9998</td>\n",
       "      <td>SOVVGSH12A8C14085F</td>\n",
       "      <td>Eddie</td>\n",
       "      <td>Pode Me Chamar</td>\n",
       "    </tr>\n",
       "    <tr>\n",
       "      <th>9999</th>\n",
       "      <td>9999</td>\n",
       "      <td>SOPNUVB12A8C13627D</td>\n",
       "      <td>Vincent Bruley</td>\n",
       "      <td>Souffle 2</td>\n",
       "    </tr>\n",
       "  </tbody>\n",
       "</table>\n",
       "<p>10000 rows × 4 columns</p>\n",
       "</div>"
      ],
      "text/plain": [
       "      Unnamed: 0             song_id             artist_name  \\\n",
       "0              0  SOGSMXL12A81C23D88          Rapha\\xc3\\xabl   \n",
       "1              1  SOMBCOW12AAF3B229F           Julie Zenatti   \n",
       "2              2  SOEYIHF12AB017B5F4   The Baltimore Consort   \n",
       "3              3  SODJYEC12A8C13D757            I Hate Sally   \n",
       "4              4  SOGSOUE12A58A76443  Orlando Pops Orchestra   \n",
       "...          ...                 ...                     ...   \n",
       "9995        9995  SOWJQRH12AB0186761              Brent Lamb   \n",
       "9996        9996  SOIFMVY12A8AE467B1                      U2   \n",
       "9997        9997  SOGVDLQ12A58A7E3C5                     ZO2   \n",
       "9998        9998  SOVVGSH12A8C14085F                   Eddie   \n",
       "9999        9999  SOPNUVB12A8C13627D          Vincent Bruley   \n",
       "\n",
       "                                      title  \n",
       "0            Je Sais Que La Terre Est Plate  \n",
       "1                                 On Efface  \n",
       "2                           Howells Delight  \n",
       "3                             Martha Served  \n",
       "4     Zip-A-Dee-Doo-Dah (Song of the South)  \n",
       "...                                     ...  \n",
       "9995                       One About Heaven  \n",
       "9996                                October  \n",
       "9997                            Comin' Home  \n",
       "9998                         Pode Me Chamar  \n",
       "9999                              Souffle 2  \n",
       "\n",
       "[10000 rows x 4 columns]"
      ]
     },
     "execution_count": 13,
     "metadata": {},
     "output_type": "execute_result"
    }
   ],
   "source": [
    "df2"
   ]
  },
  {
   "cell_type": "code",
   "execution_count": 14,
   "id": "adc5d176",
   "metadata": {},
   "outputs": [],
   "source": [
    "df1.drop(['Unnamed: 0'], axis=1, inplace=True)"
   ]
  },
  {
   "cell_type": "code",
   "execution_count": 15,
   "id": "e9906087",
   "metadata": {},
   "outputs": [
    {
     "data": {
      "text/plain": [
       "Index(['title', 'artists'], dtype='object')"
      ]
     },
     "execution_count": 15,
     "metadata": {},
     "output_type": "execute_result"
    }
   ],
   "source": [
    "df1.columns"
   ]
  },
  {
   "cell_type": "code",
   "execution_count": 16,
   "id": "ee0ed4ff",
   "metadata": {},
   "outputs": [],
   "source": [
    "# Rename the 'artist' column to 'artist_name'\n",
    "df1 = df1.rename(columns={'artists': 'artist_name'})\n",
    "\n",
    "# Select the columns in the desired order\n",
    "df1 = df1[['artist_name', 'title']]\n"
   ]
  },
  {
   "cell_type": "code",
   "execution_count": 17,
   "id": "b68046c0",
   "metadata": {},
   "outputs": [
    {
     "data": {
      "text/html": [
       "<div>\n",
       "<style scoped>\n",
       "    .dataframe tbody tr th:only-of-type {\n",
       "        vertical-align: middle;\n",
       "    }\n",
       "\n",
       "    .dataframe tbody tr th {\n",
       "        vertical-align: top;\n",
       "    }\n",
       "\n",
       "    .dataframe thead th {\n",
       "        text-align: right;\n",
       "    }\n",
       "</style>\n",
       "<table border=\"1\" class=\"dataframe\">\n",
       "  <thead>\n",
       "    <tr style=\"text-align: right;\">\n",
       "      <th></th>\n",
       "      <th>artist_name</th>\n",
       "      <th>title</th>\n",
       "    </tr>\n",
       "  </thead>\n",
       "  <tbody>\n",
       "    <tr>\n",
       "      <th>0</th>\n",
       "      <td>Morgan Wallen</td>\n",
       "      <td>Last Night</td>\n",
       "    </tr>\n",
       "    <tr>\n",
       "      <th>1</th>\n",
       "      <td>SZA</td>\n",
       "      <td>Kill Bill</td>\n",
       "    </tr>\n",
       "    <tr>\n",
       "      <th>2</th>\n",
       "      <td>Miley Cyrus</td>\n",
       "      <td>Flowers</td>\n",
       "    </tr>\n",
       "    <tr>\n",
       "      <th>3</th>\n",
       "      <td>Eslabon Armado X Peso Pluma</td>\n",
       "      <td>Ella Baila Sola</td>\n",
       "    </tr>\n",
       "    <tr>\n",
       "      <th>4</th>\n",
       "      <td>Grupo Frontera X Bad Bunny</td>\n",
       "      <td>Un x100to</td>\n",
       "    </tr>\n",
       "    <tr>\n",
       "      <th>...</th>\n",
       "      <td>...</td>\n",
       "      <td>...</td>\n",
       "    </tr>\n",
       "    <tr>\n",
       "      <th>95</th>\n",
       "      <td>Scotty McCreery</td>\n",
       "      <td>It Matters To Her</td>\n",
       "    </tr>\n",
       "    <tr>\n",
       "      <th>96</th>\n",
       "      <td>Jimin</td>\n",
       "      <td>Like Crazy</td>\n",
       "    </tr>\n",
       "    <tr>\n",
       "      <th>97</th>\n",
       "      <td>Taylor Swift</td>\n",
       "      <td>All Of The Girls You Loved Before</td>\n",
       "    </tr>\n",
       "    <tr>\n",
       "      <th>98</th>\n",
       "      <td>Luke Combs</td>\n",
       "      <td>5 Leaf Clover</td>\n",
       "    </tr>\n",
       "    <tr>\n",
       "      <th>99</th>\n",
       "      <td>YoungBoy Never Broke Again</td>\n",
       "      <td>Big Truck</td>\n",
       "    </tr>\n",
       "  </tbody>\n",
       "</table>\n",
       "<p>100 rows × 2 columns</p>\n",
       "</div>"
      ],
      "text/plain": [
       "                    artist_name                              title\n",
       "0                 Morgan Wallen                         Last Night\n",
       "1                           SZA                          Kill Bill\n",
       "2                   Miley Cyrus                            Flowers\n",
       "3   Eslabon Armado X Peso Pluma                    Ella Baila Sola\n",
       "4    Grupo Frontera X Bad Bunny                          Un x100to\n",
       "..                          ...                                ...\n",
       "95              Scotty McCreery                  It Matters To Her\n",
       "96                        Jimin                         Like Crazy\n",
       "97                 Taylor Swift  All Of The Girls You Loved Before\n",
       "98                   Luke Combs                      5 Leaf Clover\n",
       "99   YoungBoy Never Broke Again                          Big Truck\n",
       "\n",
       "[100 rows x 2 columns]"
      ]
     },
     "execution_count": 17,
     "metadata": {},
     "output_type": "execute_result"
    }
   ],
   "source": [
    "df1"
   ]
  },
  {
   "cell_type": "code",
   "execution_count": 18,
   "id": "aead7f66",
   "metadata": {},
   "outputs": [],
   "source": [
    "# Merge the dataframes and indicate which rows exist only in df2\n",
    "merged = pd.merge(df1, df2, on=['artist_name', 'title'], how='outer', indicator=True)\n",
    "\n",
    "# Filter the merged dataframe to get only the rows that exist in df2\n",
    "df3 = merged[merged['_merge'] == 'right_only'][['artist_name', 'title']]"
   ]
  },
  {
   "cell_type": "code",
   "execution_count": 19,
   "id": "2ecdb8c7",
   "metadata": {},
   "outputs": [
    {
     "data": {
      "text/plain": [
       "(10000, 2)"
      ]
     },
     "execution_count": 19,
     "metadata": {},
     "output_type": "execute_result"
    }
   ],
   "source": [
    "df3.shape"
   ]
  },
  {
   "cell_type": "code",
   "execution_count": 20,
   "id": "b7c3a439",
   "metadata": {},
   "outputs": [],
   "source": [
    "df_new = df3.sample(n=3000, random_state=42) # n is the number of rows you want to select and random_state ensures reproducibility"
   ]
  },
  {
   "cell_type": "code",
   "execution_count": 21,
   "id": "c0981cb5",
   "metadata": {},
   "outputs": [
    {
     "data": {
      "text/plain": [
       "(3000, 2)"
      ]
     },
     "execution_count": 21,
     "metadata": {},
     "output_type": "execute_result"
    }
   ],
   "source": [
    "df_new.shape"
   ]
  },
  {
   "cell_type": "code",
   "execution_count": 22,
   "id": "65cd38ca",
   "metadata": {},
   "outputs": [],
   "source": [
    "df_new.to_csv('not_hot.csv')"
   ]
  }
 ],
 "metadata": {
  "kernelspec": {
   "display_name": "Python 3 (ipykernel)",
   "language": "python",
   "name": "python3"
  },
  "language_info": {
   "codemirror_mode": {
    "name": "ipython",
    "version": 3
   },
   "file_extension": ".py",
   "mimetype": "text/x-python",
   "name": "python",
   "nbconvert_exporter": "python",
   "pygments_lexer": "ipython3",
   "version": "3.9.13"
  }
 },
 "nbformat": 4,
 "nbformat_minor": 5
}
